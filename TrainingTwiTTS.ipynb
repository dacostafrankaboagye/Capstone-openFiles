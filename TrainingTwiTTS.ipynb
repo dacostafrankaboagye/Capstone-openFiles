{
  "nbformat": 4,
  "nbformat_minor": 0,
  "metadata": {
    "colab": {
      "provenance": [],
      "gpuType": "T4",
      "authorship_tag": "ABX9TyMZe3TSGJM+fVeLj0kjXiVy",
      "include_colab_link": true
    },
    "kernelspec": {
      "name": "python3",
      "display_name": "Python 3"
    },
    "language_info": {
      "name": "python"
    },
    "gpuClass": "standard"
  },
  "cells": [
    {
      "cell_type": "markdown",
      "metadata": {
        "id": "view-in-github",
        "colab_type": "text"
      },
      "source": [
        "<a href=\"https://colab.research.google.com/github/dacostafrankaboagye/Capstone-openFiles/blob/main/TrainingTwiTTS.ipynb\" target=\"_parent\"><img src=\"https://colab.research.google.com/assets/colab-badge.svg\" alt=\"Open In Colab\"/></a>"
      ]
    },
    {
      "cell_type": "code",
      "execution_count": 1,
      "metadata": {
        "colab": {
          "base_uri": "https://localhost:8080/"
        },
        "id": "sLZDCrOjcAKp",
        "outputId": "dd67189c-3bce-4a87-c23f-f16a49140903"
      },
      "outputs": [
        {
          "output_type": "stream",
          "name": "stdout",
          "text": [
            "Mounted at /content/drive\n"
          ]
        }
      ],
      "source": [
        "from google.colab import drive\n",
        "drive.mount('/content/drive')"
      ]
    },
    {
      "cell_type": "code",
      "source": [
        "\n",
        "#base directory\n",
        "%cd /content/drive/MyDrive/ "
      ],
      "metadata": {
        "colab": {
          "base_uri": "https://localhost:8080/"
        },
        "id": "1naChj9C15sx",
        "outputId": "5630701b-2c67-4a22-cd76-8b0eaf6f481f"
      },
      "execution_count": null,
      "outputs": [
        {
          "output_type": "stream",
          "name": "stdout",
          "text": [
            "/content/drive/MyDrive\n"
          ]
        }
      ]
    },
    {
      "cell_type": "code",
      "source": [
        "%cd /content/"
      ],
      "metadata": {
        "colab": {
          "base_uri": "https://localhost:8080/"
        },
        "id": "l7hJxlsxbMO-",
        "outputId": "f6e8c501-4d3a-46d3-92e6-9b28dfc619dd"
      },
      "execution_count": 2,
      "outputs": [
        {
          "output_type": "stream",
          "name": "stdout",
          "text": [
            "/content\n"
          ]
        }
      ]
    },
    {
      "cell_type": "code",
      "source": [
        "## Install Coqui TTS\n",
        "! pip install -U pip\n",
        "! pip install TTS"
      ],
      "metadata": {
        "id": "97hSGCCLcF3R"
      },
      "execution_count": null,
      "outputs": []
    },
    {
      "cell_type": "code",
      "source": [
        "%cd /content/"
      ],
      "metadata": {
        "colab": {
          "base_uri": "https://localhost:8080/"
        },
        "id": "AYK9XHdBRpxU",
        "outputId": "ed5b3709-2cbe-48f2-d58b-498588098168"
      },
      "execution_count": 95,
      "outputs": [
        {
          "output_type": "stream",
          "name": "stdout",
          "text": [
            "/content\n"
          ]
        }
      ]
    },
    {
      "cell_type": "code",
      "source": [
        "import os\n",
        "\n",
        "# BaseDatasetConfig: defines name, formatter and path of the dataset.\n",
        "from TTS.tts.configs.shared_configs import BaseDatasetConfig\n",
        "\n",
        "output_path = \"/content/drive/MyDrive/tts_train_dir\"\n",
        "if not os.path.exists(output_path):\n",
        "    os.makedirs(output_path)"
      ],
      "metadata": {
        "id": "4bxXPi8hcGTl"
      },
      "execution_count": 4,
      "outputs": []
    },
    {
      "cell_type": "code",
      "source": [
        "import glob\n",
        "import os\n",
        "\n",
        "os.chdir(r'/content/drive/MyDrive/tts_train_dir/LJSpeech-1.1/wavs/')\n",
        "my_files = glob.glob('GEN*.wav')\n",
        "my_files.sort()\n",
        "print(my_files)"
      ],
      "metadata": {
        "colab": {
          "base_uri": "https://localhost:8080/"
        },
        "id": "iR8WzNfgcGW9",
        "outputId": "82b8bac3-02dd-41cf-8382-dd8d2eea361a"
      },
      "execution_count": 5,
      "outputs": [
        {
          "output_type": "stream",
          "name": "stdout",
          "text": [
            "['GENGEN_001_Verse_001.wav', 'GENGEN_001_Verse_003.wav', 'GENGEN_001_Verse_008.wav', 'GENGEN_001_Verse_013.wav', 'GENGEN_001_Verse_024.wav', 'GENGEN_001_Verse_025.wav', 'GENGEN_001_Verse_026.wav', 'GENGEN_001_Verse_027.wav', 'GENGEN_001_Verse_028.wav', 'GENGEN_001_Verse_029.wav', 'GENGEN_001_Verse_030.wav', 'GENGEN_001_Verse_031.wav', 'GENGEN_002_Verse_001.wav', 'GENGEN_002_Verse_002.wav', 'GENGEN_002_Verse_004.wav', 'GENGEN_002_Verse_005.wav', 'GENGEN_002_Verse_006.wav', 'GENGEN_002_Verse_007.wav', 'GENGEN_002_Verse_011.wav', 'GENGEN_002_Verse_012.wav', 'GENGEN_002_Verse_013.wav', 'GENGEN_002_Verse_014.wav', 'GENGEN_002_Verse_015.wav', 'GENGEN_002_Verse_016.wav', 'GENGEN_002_Verse_017.wav', 'GENGEN_002_Verse_018.wav', 'GENGEN_002_Verse_019.wav', 'GENGEN_002_Verse_020.wav', 'GENGEN_002_Verse_021.wav', 'GENGEN_002_Verse_022.wav', 'GENGEN_002_Verse_023.wav', 'GENGEN_002_Verse_024.wav', 'GENGEN_002_Verse_025.wav', 'GENGEN_003_Verse_002.wav', 'GENGEN_003_Verse_004.wav', 'GENGEN_003_Verse_005.wav', 'GENGEN_003_Verse_006.wav', 'GENGEN_003_Verse_007.wav', 'GENGEN_003_Verse_008.wav', 'GENGEN_003_Verse_010.wav', 'GENGEN_003_Verse_012.wav', 'GENGEN_003_Verse_013.wav', 'GENGEN_003_Verse_015.wav', 'GENGEN_003_Verse_016.wav', 'GENGEN_003_Verse_018.wav', 'GENGEN_003_Verse_019.wav', 'GENGEN_003_Verse_021.wav', 'GENGEN_003_Verse_022.wav', 'GENGEN_003_Verse_023.wav', 'GENGEN_003_Verse_024.wav', 'GENGEN_004_Verse_001.wav', 'GENGEN_004_Verse_003.wav', 'GENGEN_004_Verse_004.wav', 'GENGEN_004_Verse_005.wav', 'GENGEN_004_Verse_007.wav', 'GENGEN_004_Verse_008.wav', 'GENGEN_004_Verse_009.wav', 'GENGEN_004_Verse_010.wav', 'GENGEN_004_Verse_011.wav', 'GENGEN_004_Verse_012.wav', 'GENGEN_004_Verse_013.wav', 'GENGEN_004_Verse_014.wav', 'GENGEN_004_Verse_016.wav', 'GENGEN_004_Verse_017.wav', 'GENGEN_004_Verse_019.wav', 'GENGEN_004_Verse_020.wav', 'GENGEN_004_Verse_021.wav', 'GENGEN_004_Verse_022.wav', 'GENGEN_004_Verse_023.wav', 'GENGEN_004_Verse_024.wav', 'GENGEN_004_Verse_026.wav', 'GENGEN_005_Verse_001.wav', 'GENGEN_005_Verse_002.wav', 'GENGEN_005_Verse_003.wav', 'GENGEN_005_Verse_004.wav', 'GENGEN_005_Verse_005.wav', 'GENGEN_005_Verse_006.wav', 'GENGEN_005_Verse_007.wav', 'GENGEN_005_Verse_008.wav', 'GENGEN_005_Verse_009.wav', 'GENGEN_005_Verse_010.wav', 'GENGEN_005_Verse_011.wav', 'GENGEN_005_Verse_012.wav', 'GENGEN_005_Verse_013.wav', 'GENGEN_005_Verse_014.wav', 'GENGEN_005_Verse_015.wav', 'GENGEN_005_Verse_017.wav', 'GENGEN_005_Verse_018.wav', 'GENGEN_005_Verse_019.wav', 'GENGEN_005_Verse_020.wav', 'GENGEN_005_Verse_021.wav', 'GENGEN_005_Verse_022.wav', 'GENGEN_005_Verse_023.wav', 'GENGEN_005_Verse_024.wav', 'GENGEN_005_Verse_025.wav', 'GENGEN_005_Verse_026.wav', 'GENGEN_005_Verse_027.wav', 'GENGEN_005_Verse_028.wav', 'GENGEN_005_Verse_029.wav', 'GENGEN_005_Verse_030.wav', 'GENGEN_005_Verse_031.wav', 'GENGEN_005_Verse_032.wav', 'GENGEN_006_Verse_001.wav', 'GENGEN_006_Verse_002.wav', 'GENGEN_006_Verse_003.wav', 'GENGEN_006_Verse_004.wav', 'GENGEN_006_Verse_005.wav', 'GENGEN_006_Verse_006.wav', 'GENGEN_006_Verse_007.wav', 'GENGEN_006_Verse_008.wav', 'GENGEN_006_Verse_009.wav', 'GENGEN_006_Verse_010.wav', 'GENGEN_006_Verse_011.wav', 'GENGEN_006_Verse_012.wav', 'GENGEN_006_Verse_013.wav', 'GENGEN_006_Verse_015.wav', 'GENGEN_006_Verse_016.wav', 'GENGEN_006_Verse_017.wav', 'GENGEN_006_Verse_018.wav', 'GENGEN_006_Verse_019.wav', 'GENGEN_006_Verse_020.wav', 'GENGEN_006_Verse_021.wav', 'GENGEN_006_Verse_022.wav', 'GENGEN_007_Verse_001.wav', 'GENGEN_007_Verse_002.wav', 'GENGEN_007_Verse_003.wav', 'GENGEN_007_Verse_004.wav', 'GENGEN_007_Verse_005.wav', 'GENGEN_007_Verse_006.wav', 'GENGEN_007_Verse_007.wav', 'GENGEN_007_Verse_008.wav', 'GENGEN_007_Verse_009.wav', 'GENGEN_007_Verse_011.wav', 'GENGEN_007_Verse_012.wav', 'GENGEN_007_Verse_013.wav', 'GENGEN_007_Verse_014.wav', 'GENGEN_007_Verse_015.wav', 'GENGEN_007_Verse_016.wav', 'GENGEN_007_Verse_017.wav', 'GENGEN_007_Verse_018.wav', 'GENGEN_007_Verse_019.wav', 'GENGEN_007_Verse_020.wav', 'GENGEN_007_Verse_021.wav', 'GENGEN_007_Verse_022.wav', 'GENGEN_007_Verse_023.wav', 'GENGEN_007_Verse_024.wav', 'GENGEN_008_Verse_001.wav', 'GENGEN_008_Verse_002.wav', 'GENGEN_008_Verse_004.wav', 'GENGEN_008_Verse_006.wav', 'GENGEN_008_Verse_007.wav', 'GENGEN_008_Verse_008.wav', 'GENGEN_008_Verse_009.wav', 'GENGEN_008_Verse_010.wav', 'GENGEN_008_Verse_011.wav', 'GENGEN_008_Verse_012.wav', 'GENGEN_008_Verse_013.wav', 'GENGEN_008_Verse_014.wav', 'GENGEN_008_Verse_015.wav', 'GENGEN_008_Verse_016.wav', 'GENGEN_008_Verse_018.wav', 'GENGEN_008_Verse_019.wav', 'GENGEN_008_Verse_020.wav', 'GENGEN_008_Verse_021.wav', 'GENGEN_008_Verse_022.wav', 'GENGEN_009_Verse_003.wav', 'GENGEN_009_Verse_004.wav', 'GENGEN_009_Verse_006.wav', 'GENGEN_009_Verse_007.wav', 'GENGEN_009_Verse_008.wav', 'GENGEN_009_Verse_009.wav', 'GENGEN_009_Verse_010.wav', 'GENGEN_009_Verse_011.wav', 'GENGEN_009_Verse_013.wav', 'GENGEN_009_Verse_014.wav', 'GENGEN_009_Verse_015.wav', 'GENGEN_009_Verse_017.wav', 'GENGEN_009_Verse_018.wav', 'GENGEN_009_Verse_019.wav', 'GENGEN_009_Verse_020.wav', 'GENGEN_009_Verse_021.wav', 'GENGEN_009_Verse_022.wav', 'GENGEN_009_Verse_023.wav', 'GENGEN_009_Verse_024.wav', 'GENGEN_009_Verse_025.wav', 'GENGEN_009_Verse_026.wav', 'GENGEN_009_Verse_028.wav', 'GENGEN_009_Verse_029.wav', 'GENGEN_010_Verse_003.wav', 'GENGEN_010_Verse_004.wav', 'GENGEN_010_Verse_005.wav', 'GENGEN_010_Verse_007.wav', 'GENGEN_010_Verse_008.wav', 'GENGEN_010_Verse_009.wav', 'GENGEN_010_Verse_010.wav', 'GENGEN_010_Verse_011.wav', 'GENGEN_010_Verse_012.wav', 'GENGEN_010_Verse_013.wav', 'GENGEN_010_Verse_014.wav', 'GENGEN_010_Verse_015.wav', 'GENGEN_010_Verse_016.wav', 'GENGEN_010_Verse_017.wav', 'GENGEN_010_Verse_018.wav', 'GENGEN_010_Verse_019.wav', 'GENGEN_010_Verse_020.wav', 'GENGEN_010_Verse_021.wav', 'GENGEN_010_Verse_022.wav', 'GENGEN_010_Verse_023.wav', 'GENGEN_010_Verse_024.wav', 'GENGEN_010_Verse_025.wav', 'GENGEN_010_Verse_026.wav', 'GENGEN_010_Verse_027.wav', 'GENGEN_010_Verse_028.wav', 'GENGEN_010_Verse_029.wav', 'GENGEN_010_Verse_030.wav', 'GENGEN_010_Verse_031.wav', 'GENGEN_010_Verse_032.wav', 'GENGEN_011_Verse_001.wav', 'GENGEN_011_Verse_002.wav', 'GENGEN_011_Verse_003.wav', 'GENGEN_011_Verse_004.wav', 'GENGEN_011_Verse_006.wav', 'GENGEN_011_Verse_007.wav', 'GENGEN_011_Verse_008.wav', 'GENGEN_011_Verse_009.wav', 'GENGEN_011_Verse_011.wav', 'GENGEN_011_Verse_012.wav', 'GENGEN_011_Verse_013.wav', 'GENGEN_011_Verse_015.wav', 'GENGEN_011_Verse_016.wav', 'GENGEN_011_Verse_017.wav', 'GENGEN_011_Verse_018.wav', 'GENGEN_011_Verse_019.wav', 'GENGEN_011_Verse_020.wav', 'GENGEN_011_Verse_021.wav', 'GENGEN_011_Verse_022.wav', 'GENGEN_011_Verse_023.wav', 'GENGEN_011_Verse_024.wav', 'GENGEN_011_Verse_026.wav', 'GENGEN_011_Verse_027.wav', 'GENGEN_011_Verse_028.wav', 'GENGEN_011_Verse_030.wav', 'GENGEN_011_Verse_031.wav', 'GENGEN_011_Verse_032.wav', 'GENGEN_012_Verse_001.wav', 'GENGEN_012_Verse_002.wav', 'GENGEN_012_Verse_003.wav', 'GENGEN_012_Verse_004.wav', 'GENGEN_012_Verse_005.wav', 'GENGEN_012_Verse_007.wav', 'GENGEN_012_Verse_008.wav', 'GENGEN_012_Verse_009.wav', 'GENGEN_012_Verse_010.wav', 'GENGEN_012_Verse_011.wav', 'GENGEN_012_Verse_012.wav', 'GENGEN_012_Verse_013.wav', 'GENGEN_012_Verse_014.wav', 'GENGEN_012_Verse_015.wav', 'GENGEN_012_Verse_016.wav', 'GENGEN_012_Verse_017.wav', 'GENGEN_012_Verse_020.wav', 'GENGEN_013_Verse_002.wav', 'GENGEN_013_Verse_003.wav', 'GENGEN_013_Verse_005.wav', 'GENGEN_013_Verse_007.wav', 'GENGEN_013_Verse_008.wav', 'GENGEN_013_Verse_009.wav', 'GENGEN_013_Verse_010.wav', 'GENGEN_013_Verse_012.wav', 'GENGEN_013_Verse_013.wav', 'GENGEN_013_Verse_014.wav', 'GENGEN_013_Verse_015.wav', 'GENGEN_013_Verse_016.wav', 'GENGEN_013_Verse_017.wav', 'GENGEN_013_Verse_018.wav', 'GENGEN_014_Verse_001.wav', 'GENGEN_014_Verse_002.wav', 'GENGEN_014_Verse_003.wav', 'GENGEN_014_Verse_004.wav', 'GENGEN_014_Verse_005.wav', 'GENGEN_014_Verse_006.wav', 'GENGEN_014_Verse_007.wav', 'GENGEN_014_Verse_008.wav', 'GENGEN_014_Verse_009.wav', 'GENGEN_014_Verse_011.wav', 'GENGEN_014_Verse_012.wav', 'GENGEN_014_Verse_015.wav', 'GENGEN_014_Verse_016.wav', 'GENGEN_014_Verse_017.wav', 'GENGEN_014_Verse_019.wav', 'GENGEN_014_Verse_020.wav', 'GENGEN_014_Verse_021.wav', 'GENGEN_014_Verse_022.wav', 'GENGEN_014_Verse_023.wav', 'GENGEN_014_Verse_024.wav', 'GENGEN_015_Verse_001.wav', 'GENGEN_015_Verse_002.wav', 'GENGEN_015_Verse_003.wav', 'GENGEN_015_Verse_004.wav', 'GENGEN_015_Verse_006.wav', 'GENGEN_015_Verse_007.wav', 'GENGEN_015_Verse_008.wav', 'GENGEN_015_Verse_009.wav', 'GENGEN_015_Verse_010.wav', 'GENGEN_015_Verse_011.wav', 'GENGEN_015_Verse_012.wav', 'GENGEN_015_Verse_013.wav', 'GENGEN_015_Verse_014.wav', 'GENGEN_015_Verse_015.wav', 'GENGEN_015_Verse_016.wav', 'GENGEN_015_Verse_017.wav', 'GENGEN_015_Verse_018.wav', 'GENGEN_015_Verse_019.wav', 'GENGEN_015_Verse_020.wav', 'GENGEN_015_Verse_021.wav', 'GENGEN_016_Verse_001.wav', 'GENGEN_016_Verse_002.wav', 'GENGEN_016_Verse_003.wav', 'GENGEN_016_Verse_004.wav', 'GENGEN_016_Verse_005.wav', 'GENGEN_016_Verse_006.wav', 'GENGEN_016_Verse_007.wav', 'GENGEN_016_Verse_008.wav', 'GENGEN_016_Verse_009.wav', 'GENGEN_016_Verse_010.wav', 'GENGEN_016_Verse_011.wav', 'GENGEN_016_Verse_013.wav', 'GENGEN_016_Verse_014.wav', 'GENGEN_016_Verse_016.wav', 'GENGEN_017_Verse_001.wav', 'GENGEN_017_Verse_002.wav', 'GENGEN_017_Verse_003.wav', 'GENGEN_017_Verse_004.wav', 'GENGEN_017_Verse_005.wav', 'GENGEN_017_Verse_006.wav', 'GENGEN_017_Verse_007.wav', 'GENGEN_017_Verse_008.wav', 'GENGEN_017_Verse_010.wav', 'GENGEN_017_Verse_012.wav', 'GENGEN_017_Verse_013.wav', 'GENGEN_017_Verse_014.wav', 'GENGEN_017_Verse_015.wav', 'GENGEN_017_Verse_016.wav', 'GENGEN_017_Verse_017.wav', 'GENGEN_017_Verse_018.wav', 'GENGEN_017_Verse_019.wav', 'GENGEN_017_Verse_020.wav', 'GENGEN_017_Verse_021.wav', 'GENGEN_017_Verse_022.wav', 'GENGEN_017_Verse_023.wav', 'GENGEN_017_Verse_024.wav', 'GENGEN_017_Verse_025.wav', 'GENGEN_017_Verse_026.wav', 'GENGEN_017_Verse_027.wav', 'GENGEN_018_Verse_001.wav', 'GENGEN_018_Verse_002.wav', 'GENGEN_018_Verse_004.wav', 'GENGEN_018_Verse_005.wav', 'GENGEN_018_Verse_006.wav', 'GENGEN_018_Verse_008.wav', 'GENGEN_018_Verse_009.wav', 'GENGEN_018_Verse_010.wav', 'GENGEN_018_Verse_011.wav', 'GENGEN_018_Verse_012.wav', 'GENGEN_018_Verse_013.wav', 'GENGEN_018_Verse_014.wav', 'GENGEN_018_Verse_015.wav', 'GENGEN_018_Verse_016.wav', 'GENGEN_018_Verse_017.wav', 'GENGEN_018_Verse_018.wav', 'GENGEN_018_Verse_019.wav', 'GENGEN_018_Verse_021.wav', 'GENGEN_018_Verse_022.wav', 'GENGEN_018_Verse_023.wav', 'GENGEN_018_Verse_024.wav', 'GENGEN_018_Verse_025.wav', 'GENGEN_018_Verse_028.wav', 'GENGEN_018_Verse_029.wav', 'GENGEN_018_Verse_030.wav', 'GENGEN_018_Verse_031.wav', 'GENGEN_018_Verse_032.wav', 'GENGEN_019_Verse_001.wav', 'GENGEN_019_Verse_002.wav', 'GENGEN_019_Verse_003.wav', 'GENGEN_019_Verse_004.wav', 'GENGEN_019_Verse_005.wav', 'GENGEN_019_Verse_006.wav', 'GENGEN_019_Verse_007.wav', 'GENGEN_019_Verse_009.wav', 'GENGEN_019_Verse_010.wav', 'GENGEN_019_Verse_012.wav', 'GENGEN_019_Verse_013.wav', 'GENGEN_019_Verse_015.wav', 'GENGEN_019_Verse_018.wav', 'GENGEN_019_Verse_019.wav', 'GENGEN_019_Verse_020.wav', 'GENGEN_019_Verse_021.wav', 'GENGEN_019_Verse_022.wav', 'GENGEN_019_Verse_023.wav', 'GENGEN_019_Verse_024.wav', 'GENGEN_019_Verse_025.wav', 'GENGEN_019_Verse_026.wav', 'GENGEN_019_Verse_027.wav', 'GENGEN_019_Verse_028.wav', 'GENGEN_019_Verse_030.wav', 'GENGEN_019_Verse_031.wav', 'GENGEN_019_Verse_032.wav', 'GENGEN_019_Verse_035.wav', 'GENGEN_019_Verse_036.wav', 'GENGEN_019_Verse_037.wav', 'GENGEN_020_Verse_001.wav', 'GENGEN_020_Verse_002.wav', 'GENGEN_020_Verse_003.wav', 'GENGEN_020_Verse_004.wav', 'GENGEN_020_Verse_005.wav', 'GENGEN_020_Verse_006.wav', 'GENGEN_020_Verse_007.wav', 'GENGEN_020_Verse_008.wav', 'GENGEN_020_Verse_009.wav', 'GENGEN_020_Verse_010.wav', 'GENGEN_020_Verse_011.wav', 'GENGEN_020_Verse_012.wav', 'GENGEN_020_Verse_013.wav', 'GENGEN_020_Verse_015.wav', 'GENGEN_020_Verse_016.wav', 'GENGEN_020_Verse_017.wav', 'GENGEN_020_Verse_018.wav', 'GENGEN_021_Verse_001.wav', 'GENGEN_021_Verse_002.wav', 'GENGEN_021_Verse_004.wav', 'GENGEN_021_Verse_005.wav', 'GENGEN_021_Verse_007.wav', 'GENGEN_021_Verse_008.wav', 'GENGEN_021_Verse_009.wav', 'GENGEN_021_Verse_010.wav', 'GENGEN_021_Verse_011.wav', 'GENGEN_021_Verse_012.wav', 'GENGEN_021_Verse_013.wav', 'GENGEN_021_Verse_014.wav', 'GENGEN_021_Verse_015.wav', 'GENGEN_021_Verse_016.wav', 'GENGEN_021_Verse_017.wav', 'GENGEN_021_Verse_018.wav', 'GENGEN_021_Verse_019.wav', 'GENGEN_021_Verse_021.wav', 'GENGEN_021_Verse_022.wav', 'GENGEN_021_Verse_023.wav', 'GENGEN_021_Verse_024.wav', 'GENGEN_021_Verse_028.wav', 'GENGEN_021_Verse_029.wav', 'GENGEN_021_Verse_030.wav', 'GENGEN_021_Verse_031.wav', 'GENGEN_021_Verse_032.wav', 'GENGEN_021_Verse_033.wav', 'GENGEN_021_Verse_034.wav', 'GENGEN_022_Verse_001.wav', 'GENGEN_022_Verse_002.wav', 'GENGEN_022_Verse_003.wav', 'GENGEN_022_Verse_004.wav', 'GENGEN_022_Verse_005.wav', 'GENGEN_022_Verse_006.wav', 'GENGEN_022_Verse_008.wav', 'GENGEN_022_Verse_009.wav', 'GENGEN_022_Verse_010.wav', 'GENGEN_022_Verse_011.wav', 'GENGEN_022_Verse_012.wav', 'GENGEN_022_Verse_014.wav', 'GENGEN_022_Verse_015.wav', 'GENGEN_022_Verse_017.wav', 'GENGEN_022_Verse_018.wav', 'GENGEN_022_Verse_019.wav', 'GENGEN_022_Verse_021.wav', 'GENGEN_022_Verse_022.wav', 'GENGEN_022_Verse_023.wav', 'GENGEN_023_Verse_001.wav', 'GENGEN_023_Verse_003.wav', 'GENGEN_023_Verse_004.wav', 'GENGEN_023_Verse_006.wav', 'GENGEN_023_Verse_007.wav', 'GENGEN_023_Verse_008.wav', 'GENGEN_023_Verse_009.wav', 'GENGEN_023_Verse_010.wav', 'GENGEN_023_Verse_011.wav', 'GENGEN_023_Verse_013.wav', 'GENGEN_023_Verse_015.wav', 'GENGEN_023_Verse_016.wav', 'GENGEN_023_Verse_017.wav', 'GENGEN_023_Verse_018.wav', 'GENGEN_023_Verse_019.wav', 'GENGEN_023_Verse_020.wav', 'GENGEN_024_Verse_001.wav', 'GENGEN_024_Verse_003.wav', 'GENGEN_024_Verse_004.wav', 'GENGEN_024_Verse_005.wav', 'GENGEN_024_Verse_006.wav', 'GENGEN_024_Verse_007.wav', 'GENGEN_024_Verse_008.wav', 'GENGEN_024_Verse_010.wav', 'GENGEN_024_Verse_011.wav', 'GENGEN_024_Verse_012.wav', 'GENGEN_024_Verse_013.wav', 'GENGEN_024_Verse_014.wav', 'GENGEN_024_Verse_017.wav', 'GENGEN_024_Verse_018.wav', 'GENGEN_024_Verse_019.wav', 'GENGEN_024_Verse_020.wav', 'GENGEN_024_Verse_021.wav', 'GENGEN_024_Verse_022.wav', 'GENGEN_024_Verse_023.wav', 'GENGEN_024_Verse_024.wav', 'GENGEN_024_Verse_025.wav', 'GENGEN_024_Verse_026.wav', 'GENGEN_024_Verse_028.wav', 'GENGEN_024_Verse_029.wav', 'GENGEN_024_Verse_030.wav', 'GENGEN_024_Verse_033.wav', 'GENGEN_024_Verse_034.wav', 'GENGEN_024_Verse_036.wav', 'GENGEN_024_Verse_037.wav', 'GENGEN_024_Verse_038.wav', 'GENGEN_024_Verse_039.wav', 'GENGEN_024_Verse_042.wav', 'GENGEN_024_Verse_043.wav', 'GENGEN_024_Verse_044.wav', 'GENGEN_024_Verse_045.wav', 'GENGEN_024_Verse_046.wav', 'GENGEN_024_Verse_047.wav', 'GENGEN_024_Verse_048.wav', 'GENGEN_024_Verse_049.wav', 'GENGEN_024_Verse_050.wav', 'GENGEN_024_Verse_051.wav', 'GENGEN_024_Verse_052.wav', 'GENGEN_024_Verse_053.wav', 'GENGEN_024_Verse_054.wav', 'GENGEN_024_Verse_055.wav', 'GENGEN_024_Verse_056.wav', 'GENGEN_024_Verse_057.wav', 'GENGEN_024_Verse_059.wav', 'GENGEN_024_Verse_060.wav', 'GENGEN_024_Verse_061.wav', 'GENGEN_024_Verse_062.wav', 'GENGEN_024_Verse_063.wav', 'GENGEN_024_Verse_064.wav', 'GENGEN_024_Verse_065.wav', 'GENGEN_024_Verse_066.wav', 'GENGEN_024_Verse_067.wav', 'GENGEN_025_Verse_001.wav', 'GENGEN_025_Verse_002.wav', 'GENGEN_025_Verse_003.wav', 'GENGEN_025_Verse_004.wav', 'GENGEN_025_Verse_005.wav', 'GENGEN_025_Verse_006.wav', 'GENGEN_025_Verse_007.wav', 'GENGEN_025_Verse_008.wav', 'GENGEN_025_Verse_010.wav', 'GENGEN_025_Verse_011.wav', 'GENGEN_025_Verse_012.wav', 'GENGEN_025_Verse_013.wav', 'GENGEN_025_Verse_014.wav', 'GENGEN_025_Verse_015.wav', 'GENGEN_025_Verse_017.wav', 'GENGEN_025_Verse_018.wav', 'GENGEN_025_Verse_019.wav', 'GENGEN_025_Verse_020.wav', 'GENGEN_025_Verse_021.wav', 'GENGEN_025_Verse_022.wav', 'GENGEN_025_Verse_023.wav', 'GENGEN_025_Verse_024.wav', 'GENGEN_025_Verse_025.wav', 'GENGEN_025_Verse_026.wav', 'GENGEN_025_Verse_027.wav', 'GENGEN_025_Verse_028.wav', 'GENGEN_025_Verse_029.wav', 'GENGEN_025_Verse_030.wav', 'GENGEN_025_Verse_031.wav', 'GENGEN_025_Verse_032.wav', 'GENGEN_025_Verse_033.wav', 'GENGEN_025_Verse_034.wav', 'GENGEN_026_Verse_002.wav', 'GENGEN_026_Verse_003.wav', 'GENGEN_026_Verse_004.wav', 'GENGEN_026_Verse_005.wav', 'GENGEN_026_Verse_006.wav', 'GENGEN_026_Verse_007.wav', 'GENGEN_026_Verse_008.wav', 'GENGEN_026_Verse_009.wav', 'GENGEN_026_Verse_010.wav', 'GENGEN_026_Verse_011.wav', 'GENGEN_026_Verse_012.wav', 'GENGEN_026_Verse_014.wav', 'GENGEN_026_Verse_015.wav', 'GENGEN_026_Verse_017.wav', 'GENGEN_026_Verse_018.wav', 'GENGEN_026_Verse_020.wav', 'GENGEN_026_Verse_021.wav', 'GENGEN_026_Verse_022.wav', 'GENGEN_026_Verse_023.wav', 'GENGEN_026_Verse_024.wav', 'GENGEN_026_Verse_026.wav', 'GENGEN_026_Verse_028.wav', 'GENGEN_026_Verse_029.wav', 'GENGEN_026_Verse_030.wav', 'GENGEN_026_Verse_031.wav', 'GENGEN_026_Verse_033.wav', 'GENGEN_026_Verse_034.wav', 'GENGEN_026_Verse_035.wav', 'GENGEN_027_Verse_002.wav', 'GENGEN_027_Verse_003.wav', 'GENGEN_027_Verse_004.wav', 'GENGEN_027_Verse_006.wav', 'GENGEN_027_Verse_008.wav', 'GENGEN_027_Verse_009.wav', 'GENGEN_027_Verse_010.wav', 'GENGEN_027_Verse_011.wav', 'GENGEN_027_Verse_012.wav', 'GENGEN_027_Verse_013.wav', 'GENGEN_027_Verse_014.wav', 'GENGEN_027_Verse_015.wav', 'GENGEN_027_Verse_016.wav', 'GENGEN_027_Verse_017.wav', 'GENGEN_027_Verse_018.wav', 'GENGEN_027_Verse_019.wav', 'GENGEN_027_Verse_020.wav', 'GENGEN_027_Verse_022.wav', 'GENGEN_027_Verse_025.wav', 'GENGEN_027_Verse_026.wav', 'GENGEN_027_Verse_028.wav', 'GENGEN_027_Verse_029.wav', 'GENGEN_027_Verse_030.wav', 'GENGEN_027_Verse_031.wav', 'GENGEN_027_Verse_032.wav', 'GENGEN_027_Verse_033.wav', 'GENGEN_027_Verse_034.wav', 'GENGEN_027_Verse_035.wav', 'GENGEN_027_Verse_037.wav', 'GENGEN_027_Verse_039.wav', 'GENGEN_027_Verse_041.wav', 'GENGEN_027_Verse_042.wav', 'GENGEN_027_Verse_044.wav', 'GENGEN_027_Verse_045.wav', 'GENGEN_028_Verse_001.wav', 'GENGEN_028_Verse_003.wav', 'GENGEN_028_Verse_004.wav', 'GENGEN_028_Verse_006.wav', 'GENGEN_028_Verse_009.wav', 'GENGEN_028_Verse_010.wav', 'GENGEN_028_Verse_011.wav', 'GENGEN_028_Verse_012.wav', 'GENGEN_028_Verse_013.wav', 'GENGEN_028_Verse_014.wav', 'GENGEN_028_Verse_015.wav', 'GENGEN_028_Verse_017.wav', 'GENGEN_028_Verse_018.wav', 'GENGEN_028_Verse_019.wav', 'GENGEN_028_Verse_020.wav', 'GENGEN_028_Verse_021.wav', 'GENGEN_028_Verse_022.wav', 'GENGEN_029_Verse_001.wav', 'GENGEN_029_Verse_004.wav', 'GENGEN_029_Verse_005.wav', 'GENGEN_029_Verse_011.wav', 'GENGEN_029_Verse_012.wav', 'GENGEN_029_Verse_014.wav', 'GENGEN_029_Verse_016.wav', 'GENGEN_029_Verse_017.wav', 'GENGEN_029_Verse_018.wav', 'GENGEN_029_Verse_020.wav', 'GENGEN_029_Verse_022.wav', 'GENGEN_029_Verse_023.wav', 'GENGEN_029_Verse_025.wav', 'GENGEN_029_Verse_027.wav', 'GENGEN_029_Verse_028.wav', 'GENGEN_029_Verse_029.wav', 'GENGEN_029_Verse_030.wav', 'GENGEN_029_Verse_032.wav', 'GENGEN_029_Verse_033.wav', 'GENGEN_030_Verse_001.wav', 'GENGEN_030_Verse_004.wav', 'GENGEN_030_Verse_005.wav', 'GENGEN_030_Verse_006.wav', 'GENGEN_030_Verse_007.wav', 'GENGEN_030_Verse_008.wav', 'GENGEN_030_Verse_011.wav', 'GENGEN_030_Verse_012.wav', 'GENGEN_030_Verse_016.wav', 'GENGEN_030_Verse_018.wav', 'GENGEN_030_Verse_020.wav', 'GENGEN_030_Verse_021.wav', 'GENGEN_030_Verse_022.wav', 'GENGEN_030_Verse_023.wav', 'GENGEN_030_Verse_028.wav', 'GENGEN_030_Verse_029.wav', 'GENGEN_030_Verse_030.wav', 'GENGEN_030_Verse_031.wav', 'GENGEN_030_Verse_034.wav', 'GENGEN_030_Verse_036.wav', 'GENGEN_030_Verse_038.wav', 'GENGEN_030_Verse_039.wav', 'GENGEN_030_Verse_040.wav', 'GENGEN_030_Verse_041.wav', 'GENGEN_030_Verse_042.wav', 'GENGEN_030_Verse_043.wav', 'GENGEN_031_Verse_001.wav', 'GENGEN_031_Verse_003.wav', 'GENGEN_031_Verse_007.wav', 'GENGEN_031_Verse_008.wav', 'GENGEN_031_Verse_009.wav', 'GENGEN_031_Verse_010.wav', 'GENGEN_031_Verse_011.wav', 'GENGEN_031_Verse_012.wav', 'GENGEN_031_Verse_014.wav', 'GENGEN_031_Verse_015.wav', 'GENGEN_031_Verse_016.wav', 'GENGEN_031_Verse_017.wav', 'GENGEN_031_Verse_020.wav', 'GENGEN_031_Verse_021.wav', 'GENGEN_031_Verse_022.wav', 'GENGEN_031_Verse_023.wav', 'GENGEN_031_Verse_024.wav', 'GENGEN_031_Verse_027.wav', 'GENGEN_031_Verse_030.wav', 'GENGEN_031_Verse_031.wav', 'GENGEN_031_Verse_033.wav', 'GENGEN_031_Verse_035.wav', 'GENGEN_031_Verse_037.wav', 'GENGEN_031_Verse_038.wav', 'GENGEN_031_Verse_039.wav', 'GENGEN_031_Verse_041.wav', 'GENGEN_031_Verse_042.wav', 'GENGEN_031_Verse_043.wav', 'GENGEN_031_Verse_045.wav', 'GENGEN_031_Verse_049.wav', 'GENGEN_031_Verse_051.wav', 'GENGEN_031_Verse_055.wav', 'GENGEN_032_Verse_002.wav', 'GENGEN_032_Verse_003.wav', 'GENGEN_032_Verse_004.wav', 'GENGEN_032_Verse_005.wav', 'GENGEN_032_Verse_006.wav', 'GENGEN_032_Verse_007.wav', 'GENGEN_032_Verse_008.wav', 'GENGEN_032_Verse_009.wav', 'GENGEN_032_Verse_011.wav', 'GENGEN_032_Verse_012.wav', 'GENGEN_032_Verse_014.wav', 'GENGEN_032_Verse_015.wav', 'GENGEN_032_Verse_016.wav', 'GENGEN_032_Verse_018.wav', 'GENGEN_032_Verse_019.wav', 'GENGEN_032_Verse_020.wav', 'GENGEN_032_Verse_021.wav', 'GENGEN_032_Verse_022.wav', 'GENGEN_032_Verse_024.wav', 'GENGEN_032_Verse_027.wav', 'GENGEN_032_Verse_028.wav', 'GENGEN_032_Verse_029.wav', 'GENGEN_032_Verse_031.wav', 'GENGEN_032_Verse_032.wav', 'GENGEN_033_Verse_001.wav', 'GENGEN_033_Verse_002.wav', 'GENGEN_033_Verse_004.wav', 'GENGEN_033_Verse_005.wav', 'GENGEN_033_Verse_006.wav', 'GENGEN_033_Verse_008.wav', 'GENGEN_033_Verse_009.wav', 'GENGEN_033_Verse_010.wav', 'GENGEN_033_Verse_011.wav', 'GENGEN_033_Verse_012.wav', 'GENGEN_033_Verse_014.wav', 'GENGEN_033_Verse_016.wav', 'GENGEN_033_Verse_017.wav', 'GENGEN_033_Verse_018.wav', 'GENGEN_033_Verse_019.wav', 'GENGEN_033_Verse_020.wav', 'GENGEN_034_Verse_001.wav', 'GENGEN_034_Verse_002.wav', 'GENGEN_034_Verse_003.wav', 'GENGEN_034_Verse_004.wav', 'GENGEN_034_Verse_005.wav', 'GENGEN_034_Verse_006.wav', 'GENGEN_034_Verse_007.wav', 'GENGEN_034_Verse_008.wav', 'GENGEN_034_Verse_011.wav', 'GENGEN_034_Verse_012.wav', 'GENGEN_034_Verse_013.wav', 'GENGEN_034_Verse_014.wav', 'GENGEN_034_Verse_015.wav', 'GENGEN_034_Verse_016.wav', 'GENGEN_034_Verse_017.wav', 'GENGEN_034_Verse_018.wav', 'GENGEN_034_Verse_019.wav', 'GENGEN_034_Verse_020.wav', 'GENGEN_034_Verse_022.wav', 'GENGEN_034_Verse_024.wav', 'GENGEN_034_Verse_025.wav', 'GENGEN_034_Verse_026.wav', 'GENGEN_034_Verse_027.wav', 'GENGEN_034_Verse_028.wav', 'GENGEN_034_Verse_029.wav', 'GENGEN_034_Verse_030.wav', 'GENGEN_034_Verse_031.wav', 'GENGEN_035_Verse_002.wav', 'GENGEN_035_Verse_003.wav', 'GENGEN_035_Verse_004.wav', 'GENGEN_035_Verse_005.wav', 'GENGEN_035_Verse_007.wav', 'GENGEN_035_Verse_008.wav', 'GENGEN_035_Verse_009.wav', 'GENGEN_035_Verse_010.wav', 'GENGEN_035_Verse_011.wav', 'GENGEN_035_Verse_012.wav', 'GENGEN_035_Verse_013.wav', 'GENGEN_035_Verse_015.wav', 'GENGEN_035_Verse_016.wav', 'GENGEN_035_Verse_017.wav', 'GENGEN_035_Verse_018.wav', 'GENGEN_035_Verse_020.wav', 'GENGEN_035_Verse_021.wav', 'GENGEN_035_Verse_022.wav', 'GENGEN_035_Verse_023.wav', 'GENGEN_035_Verse_024.wav', 'GENGEN_035_Verse_025.wav', 'GENGEN_035_Verse_027.wav', 'GENGEN_035_Verse_028.wav', 'GENGEN_035_Verse_029.wav', 'GENGEN_036_Verse_002.wav', 'GENGEN_036_Verse_003.wav', 'GENGEN_036_Verse_004.wav', 'GENGEN_036_Verse_005.wav', 'GENGEN_036_Verse_006.wav', 'GENGEN_036_Verse_007.wav', 'GENGEN_036_Verse_009.wav', 'GENGEN_036_Verse_010.wav', 'GENGEN_036_Verse_011.wav', 'GENGEN_036_Verse_012.wav', 'GENGEN_036_Verse_013.wav', 'GENGEN_036_Verse_014.wav', 'GENGEN_036_Verse_015.wav', 'GENGEN_036_Verse_016.wav', 'GENGEN_036_Verse_017.wav', 'GENGEN_036_Verse_018.wav', 'GENGEN_036_Verse_019.wav', 'GENGEN_036_Verse_020.wav', 'GENGEN_036_Verse_021.wav', 'GENGEN_036_Verse_022.wav', 'GENGEN_036_Verse_023.wav', 'GENGEN_036_Verse_024.wav', 'GENGEN_036_Verse_025.wav', 'GENGEN_036_Verse_027.wav', 'GENGEN_036_Verse_028.wav', 'GENGEN_036_Verse_030.wav', 'GENGEN_036_Verse_031.wav', 'GENGEN_036_Verse_032.wav', 'GENGEN_036_Verse_033.wav', 'GENGEN_036_Verse_034.wav', 'GENGEN_036_Verse_036.wav', 'GENGEN_036_Verse_037.wav', 'GENGEN_036_Verse_039.wav', 'GENGEN_036_Verse_040.wav', 'GENGEN_036_Verse_041.wav', 'GENGEN_036_Verse_042.wav', 'GENGEN_037_Verse_001.wav', 'GENGEN_037_Verse_002.wav', 'GENGEN_037_Verse_003.wav', 'GENGEN_037_Verse_005.wav', 'GENGEN_037_Verse_006.wav', 'GENGEN_037_Verse_007.wav', 'GENGEN_037_Verse_008.wav', 'GENGEN_037_Verse_009.wav', 'GENGEN_037_Verse_011.wav', 'GENGEN_037_Verse_012.wav', 'GENGEN_037_Verse_013.wav', 'GENGEN_037_Verse_014.wav', 'GENGEN_037_Verse_015.wav', 'GENGEN_037_Verse_016.wav', 'GENGEN_037_Verse_017.wav', 'GENGEN_037_Verse_018.wav', 'GENGEN_037_Verse_020.wav', 'GENGEN_037_Verse_021.wav', 'GENGEN_037_Verse_022.wav', 'GENGEN_037_Verse_023.wav', 'GENGEN_037_Verse_026.wav', 'GENGEN_037_Verse_027.wav', 'GENGEN_037_Verse_029.wav', 'GENGEN_037_Verse_031.wav', 'GENGEN_037_Verse_033.wav', 'GENGEN_037_Verse_034.wav', 'GENGEN_037_Verse_035.wav', 'GENGEN_037_Verse_036.wav', 'GENGEN_038_Verse_001.wav', 'GENGEN_038_Verse_002.wav', 'GENGEN_038_Verse_003.wav', 'GENGEN_038_Verse_004.wav', 'GENGEN_038_Verse_005.wav', 'GENGEN_038_Verse_006.wav', 'GENGEN_038_Verse_007.wav', 'GENGEN_038_Verse_008.wav', 'GENGEN_038_Verse_009.wav', 'GENGEN_038_Verse_010.wav', 'GENGEN_038_Verse_011.wav', 'GENGEN_038_Verse_012.wav', 'GENGEN_038_Verse_013.wav', 'GENGEN_038_Verse_014.wav', 'GENGEN_038_Verse_015.wav', 'GENGEN_038_Verse_016.wav', 'GENGEN_038_Verse_017.wav', 'GENGEN_038_Verse_018.wav', 'GENGEN_038_Verse_020.wav', 'GENGEN_038_Verse_022.wav', 'GENGEN_038_Verse_023.wav', 'GENGEN_038_Verse_024.wav', 'GENGEN_038_Verse_025.wav', 'GENGEN_038_Verse_026.wav', 'GENGEN_038_Verse_027.wav', 'GENGEN_038_Verse_028.wav', 'GENGEN_038_Verse_029.wav', 'GENGEN_038_Verse_030.wav', 'GENGEN_039_Verse_001.wav', 'GENGEN_039_Verse_002.wav', 'GENGEN_039_Verse_003.wav', 'GENGEN_039_Verse_004.wav', 'GENGEN_039_Verse_005.wav', 'GENGEN_039_Verse_007.wav', 'GENGEN_039_Verse_008.wav', 'GENGEN_039_Verse_009.wav', 'GENGEN_039_Verse_010.wav', 'GENGEN_039_Verse_011.wav', 'GENGEN_039_Verse_012.wav', 'GENGEN_039_Verse_013.wav', 'GENGEN_039_Verse_015.wav', 'GENGEN_039_Verse_016.wav', 'GENGEN_039_Verse_017.wav', 'GENGEN_039_Verse_018.wav', 'GENGEN_039_Verse_019.wav', 'GENGEN_039_Verse_020.wav', 'GENGEN_039_Verse_021.wav', 'GENGEN_039_Verse_022.wav', 'GENGEN_040_Verse_001.wav', 'GENGEN_040_Verse_002.wav', 'GENGEN_040_Verse_003.wav', 'GENGEN_040_Verse_004.wav', 'GENGEN_040_Verse_005.wav', 'GENGEN_040_Verse_006.wav', 'GENGEN_040_Verse_007.wav', 'GENGEN_040_Verse_008.wav', 'GENGEN_040_Verse_009.wav', 'GENGEN_040_Verse_010.wav', 'GENGEN_040_Verse_011.wav', 'GENGEN_040_Verse_013.wav', 'GENGEN_040_Verse_014.wav', 'GENGEN_040_Verse_015.wav', 'GENGEN_040_Verse_016.wav', 'GENGEN_040_Verse_017.wav', 'GENGEN_040_Verse_018.wav', 'GENGEN_040_Verse_019.wav', 'GENGEN_040_Verse_020.wav', 'GENGEN_040_Verse_021.wav', 'GENGEN_041_Verse_001.wav', 'GENGEN_041_Verse_002.wav', 'GENGEN_041_Verse_003.wav', 'GENGEN_041_Verse_004.wav', 'GENGEN_041_Verse_005.wav', 'GENGEN_041_Verse_006.wav', 'GENGEN_041_Verse_008.wav', 'GENGEN_041_Verse_009.wav', 'GENGEN_041_Verse_010.wav', 'GENGEN_041_Verse_011.wav', 'GENGEN_041_Verse_012.wav', 'GENGEN_041_Verse_013.wav', 'GENGEN_041_Verse_015.wav', 'GENGEN_041_Verse_016.wav', 'GENGEN_041_Verse_017.wav', 'GENGEN_041_Verse_018.wav', 'GENGEN_041_Verse_019.wav', 'GENGEN_041_Verse_020.wav', 'GENGEN_041_Verse_021.wav', 'GENGEN_041_Verse_022.wav', 'GENGEN_041_Verse_023.wav', 'GENGEN_041_Verse_024.wav', 'GENGEN_041_Verse_025.wav', 'GENGEN_041_Verse_026.wav', 'GENGEN_041_Verse_028.wav', 'GENGEN_041_Verse_029.wav', 'GENGEN_041_Verse_030.wav', 'GENGEN_041_Verse_031.wav', 'GENGEN_041_Verse_032.wav', 'GENGEN_041_Verse_034.wav', 'GENGEN_041_Verse_035.wav', 'GENGEN_041_Verse_036.wav', 'GENGEN_041_Verse_037.wav', 'GENGEN_041_Verse_038.wav', 'GENGEN_041_Verse_039.wav', 'GENGEN_041_Verse_040.wav', 'GENGEN_041_Verse_041.wav', 'GENGEN_041_Verse_042.wav', 'GENGEN_041_Verse_043.wav', 'GENGEN_041_Verse_044.wav', 'GENGEN_041_Verse_045.wav', 'GENGEN_041_Verse_046.wav', 'GENGEN_041_Verse_047.wav', 'GENGEN_041_Verse_048.wav', 'GENGEN_041_Verse_049.wav', 'GENGEN_041_Verse_050.wav', 'GENGEN_041_Verse_051.wav', 'GENGEN_041_Verse_052.wav', 'GENGEN_041_Verse_053.wav', 'GENGEN_041_Verse_054.wav', 'GENGEN_041_Verse_055.wav', 'GENGEN_041_Verse_056.wav', 'GENGEN_041_Verse_057.wav', 'GENGEN_042_Verse_001.wav', 'GENGEN_042_Verse_002.wav', 'GENGEN_042_Verse_003.wav', 'GENGEN_042_Verse_004.wav', 'GENGEN_042_Verse_005.wav', 'GENGEN_042_Verse_006.wav', 'GENGEN_042_Verse_007.wav', 'GENGEN_042_Verse_008.wav', 'GENGEN_042_Verse_009.wav', 'GENGEN_042_Verse_010.wav', 'GENGEN_042_Verse_012.wav', 'GENGEN_042_Verse_013.wav', 'GENGEN_042_Verse_014.wav', 'GENGEN_042_Verse_015.wav', 'GENGEN_042_Verse_016.wav', 'GENGEN_042_Verse_017.wav', 'GENGEN_042_Verse_018.wav', 'GENGEN_042_Verse_019.wav', 'GENGEN_042_Verse_021.wav', 'GENGEN_042_Verse_022.wav', 'GENGEN_042_Verse_023.wav', 'GENGEN_042_Verse_024.wav', 'GENGEN_042_Verse_026.wav', 'GENGEN_042_Verse_027.wav', 'GENGEN_042_Verse_028.wav', 'GENGEN_042_Verse_029.wav', 'GENGEN_042_Verse_030.wav', 'GENGEN_042_Verse_031.wav', 'GENGEN_042_Verse_032.wav', 'GENGEN_042_Verse_033.wav', 'GENGEN_042_Verse_034.wav', 'GENGEN_042_Verse_035.wav', 'GENGEN_042_Verse_036.wav', 'GENGEN_042_Verse_038.wav', 'GENGEN_043_Verse_001.wav', 'GENGEN_043_Verse_002.wav', 'GENGEN_043_Verse_003.wav', 'GENGEN_043_Verse_004.wav', 'GENGEN_043_Verse_005.wav', 'GENGEN_043_Verse_006.wav', 'GENGEN_043_Verse_007.wav', 'GENGEN_043_Verse_008.wav', 'GENGEN_043_Verse_009.wav', 'GENGEN_043_Verse_010.wav', 'GENGEN_043_Verse_011.wav', 'GENGEN_043_Verse_013.wav', 'GENGEN_043_Verse_014.wav', 'GENGEN_043_Verse_015.wav', 'GENGEN_043_Verse_016.wav', 'GENGEN_043_Verse_017.wav', 'GENGEN_043_Verse_018.wav', 'GENGEN_043_Verse_019.wav', 'GENGEN_043_Verse_020.wav', 'GENGEN_043_Verse_021.wav', 'GENGEN_043_Verse_022.wav', 'GENGEN_043_Verse_024.wav', 'GENGEN_043_Verse_025.wav', 'GENGEN_043_Verse_027.wav', 'GENGEN_043_Verse_028.wav', 'GENGEN_043_Verse_029.wav', 'GENGEN_043_Verse_030.wav', 'GENGEN_043_Verse_032.wav', 'GENGEN_043_Verse_033.wav', 'GENGEN_043_Verse_034.wav', 'GENGEN_044_Verse_001.wav', 'GENGEN_044_Verse_002.wav', 'GENGEN_044_Verse_003.wav', 'GENGEN_044_Verse_004.wav', 'GENGEN_044_Verse_006.wav', 'GENGEN_044_Verse_007.wav', 'GENGEN_044_Verse_009.wav', 'GENGEN_044_Verse_010.wav', 'GENGEN_044_Verse_011.wav', 'GENGEN_044_Verse_012.wav', 'GENGEN_044_Verse_013.wav', 'GENGEN_044_Verse_014.wav', 'GENGEN_044_Verse_015.wav', 'GENGEN_044_Verse_016.wav', 'GENGEN_044_Verse_017.wav', 'GENGEN_044_Verse_018.wav', 'GENGEN_044_Verse_019.wav', 'GENGEN_044_Verse_020.wav', 'GENGEN_044_Verse_021.wav', 'GENGEN_044_Verse_022.wav', 'GENGEN_044_Verse_023.wav', 'GENGEN_044_Verse_024.wav', 'GENGEN_044_Verse_025.wav', 'GENGEN_044_Verse_027.wav', 'GENGEN_044_Verse_028.wav', 'GENGEN_044_Verse_029.wav', 'GENGEN_044_Verse_030.wav', 'GENGEN_044_Verse_031.wav', 'GENGEN_044_Verse_032.wav', 'GENGEN_044_Verse_033.wav', 'GENGEN_044_Verse_034.wav', 'GENGEN_045_Verse_001.wav', 'GENGEN_045_Verse_002.wav', 'GENGEN_045_Verse_003.wav', 'GENGEN_045_Verse_004.wav', 'GENGEN_045_Verse_006.wav', 'GENGEN_045_Verse_007.wav', 'GENGEN_045_Verse_008.wav', 'GENGEN_045_Verse_009.wav', 'GENGEN_045_Verse_010.wav', 'GENGEN_045_Verse_011.wav', 'GENGEN_045_Verse_012.wav', 'GENGEN_045_Verse_013.wav', 'GENGEN_045_Verse_014.wav', 'GENGEN_045_Verse_015.wav', 'GENGEN_045_Verse_016.wav', 'GENGEN_045_Verse_017.wav', 'GENGEN_045_Verse_019.wav', 'GENGEN_045_Verse_020.wav', 'GENGEN_045_Verse_021.wav', 'GENGEN_045_Verse_022.wav', 'GENGEN_045_Verse_023.wav', 'GENGEN_045_Verse_024.wav', 'GENGEN_045_Verse_026.wav', 'GENGEN_045_Verse_027.wav', 'GENGEN_045_Verse_028.wav', 'GENGEN_046_Verse_001.wav', 'GENGEN_046_Verse_002.wav', 'GENGEN_046_Verse_005.wav', 'GENGEN_046_Verse_008.wav', 'GENGEN_046_Verse_009.wav', 'GENGEN_046_Verse_010.wav', 'GENGEN_046_Verse_011.wav', 'GENGEN_046_Verse_012.wav', 'GENGEN_046_Verse_013.wav', 'GENGEN_046_Verse_014.wav', 'GENGEN_046_Verse_015.wav', 'GENGEN_046_Verse_016.wav', 'GENGEN_046_Verse_017.wav', 'GENGEN_046_Verse_019.wav', 'GENGEN_046_Verse_020.wav', 'GENGEN_046_Verse_021.wav', 'GENGEN_046_Verse_022.wav', 'GENGEN_046_Verse_023.wav', 'GENGEN_046_Verse_024.wav', 'GENGEN_046_Verse_025.wav', 'GENGEN_046_Verse_029.wav', 'GENGEN_046_Verse_030.wav', 'GENGEN_046_Verse_031.wav', 'GENGEN_046_Verse_032.wav', 'GENGEN_046_Verse_033.wav', 'GENGEN_046_Verse_034.wav', 'GENGEN_047_Verse_001.wav', 'GENGEN_047_Verse_002.wav', 'GENGEN_047_Verse_003.wav', 'GENGEN_047_Verse_004.wav', 'GENGEN_047_Verse_005.wav', 'GENGEN_047_Verse_006.wav', 'GENGEN_047_Verse_007.wav', 'GENGEN_047_Verse_010.wav', 'GENGEN_047_Verse_011.wav', 'GENGEN_047_Verse_012.wav', 'GENGEN_047_Verse_013.wav', 'GENGEN_047_Verse_014.wav', 'GENGEN_047_Verse_015.wav', 'GENGEN_047_Verse_017.wav', 'GENGEN_047_Verse_018.wav', 'GENGEN_047_Verse_020.wav', 'GENGEN_047_Verse_021.wav', 'GENGEN_047_Verse_022.wav', 'GENGEN_047_Verse_023.wav', 'GENGEN_047_Verse_024.wav', 'GENGEN_047_Verse_025.wav', 'GENGEN_047_Verse_026.wav', 'GENGEN_047_Verse_027.wav', 'GENGEN_047_Verse_028.wav', 'GENGEN_047_Verse_029.wav', 'GENGEN_047_Verse_030.wav', 'GENGEN_047_Verse_031.wav']\n"
          ]
        }
      ]
    },
    {
      "cell_type": "code",
      "source": [
        "len(my_files)"
      ],
      "metadata": {
        "colab": {
          "base_uri": "https://localhost:8080/"
        },
        "id": "BEJtzMRm67ha",
        "outputId": "dfdd706f-6257-4046-8823-a8e49108c5ae"
      },
      "execution_count": 6,
      "outputs": [
        {
          "output_type": "execute_result",
          "data": {
            "text/plain": [
              "1183"
            ]
          },
          "metadata": {},
          "execution_count": 6
        }
      ]
    },
    {
      "cell_type": "code",
      "source": [],
      "metadata": {
        "id": "htLqR16vLoF3"
      },
      "execution_count": null,
      "outputs": []
    },
    {
      "cell_type": "code",
      "source": [
        "# importing the modules\n",
        "import os\n",
        "import shutil\n",
        "\n",
        "# Providing the folder path\n",
        "origin = '/content/drive/MyDrive/TheTraining/correctFileFormat/wavs/'\n",
        "target = '/content/drive/MyDrive/tts_train_dir/LJSpeech-1.1/wavs/'\n",
        "\n",
        "\n",
        "# Fetching all the files to directory\n",
        "for i in my_files:\n",
        "   shutil.copy(origin+i, target+i)\n",
        "   print(\"done..\",i)\n",
        "print(\"Files are copied successfully\")"
      ],
      "metadata": {
        "id": "JHGuAFn0cGbP"
      },
      "execution_count": null,
      "outputs": []
    },
    {
      "cell_type": "code",
      "source": [
        "%cd /content/drive/MyDrive/tts_train_dir/LJSpeech-1.1/wavs/"
      ],
      "metadata": {
        "colab": {
          "base_uri": "https://localhost:8080/"
        },
        "id": "CGoP-zVccGfY",
        "outputId": "277d20d1-fc55-483b-8d30-8f29ef99a8bd"
      },
      "execution_count": null,
      "outputs": [
        {
          "output_type": "stream",
          "name": "stdout",
          "text": [
            "/content/drive/MyDrive/tts_train_dir/LJSpeech-1.1/wavs\n"
          ]
        }
      ]
    },
    {
      "cell_type": "code",
      "source": [
        "%cd /content/drive/MyDrive/"
      ],
      "metadata": {
        "colab": {
          "base_uri": "https://localhost:8080/"
        },
        "id": "KzvdbSQjRFIB",
        "outputId": "533c861a-55d4-4d36-a605-c29d49ca72d4"
      },
      "execution_count": 7,
      "outputs": [
        {
          "output_type": "stream",
          "name": "stdout",
          "text": [
            "/content/drive/MyDrive\n"
          ]
        }
      ]
    },
    {
      "cell_type": "code",
      "source": [
        "#remove\n",
        "!rm '/content/drive/MyDrive/tts_train_dir/LJSpeech-1.1/wavs/GENGEN_021_Verse_028 (1).wav'"
      ],
      "metadata": {
        "id": "RKhDxk8HcGjn"
      },
      "execution_count": null,
      "outputs": []
    },
    {
      "cell_type": "code",
      "source": [
        "dataset_config = BaseDatasetConfig(\n",
        "    formatter=\"thorsten\", meta_file_train=\"metadata.txt\", language=\"twi\", path=\"/content/drive/MyDrive/tts_train_dir/LJSpeech-1.1/\"\n",
        ")"
      ],
      "metadata": {
        "id": "VHmNXI1vcGnx"
      },
      "execution_count": 8,
      "outputs": []
    },
    {
      "cell_type": "code",
      "source": [
        "from TTS.config.shared_configs import BaseAudioConfig\n",
        "audio_config = BaseAudioConfig(\n",
        "    sample_rate=22050,\n",
        "    win_length=1024, \n",
        "    hop_length=256, \n",
        "    num_mels=80, \n",
        "    mel_fmin=0, \n",
        "    mel_fmax=None, \n",
        "    power=1.3,\n",
        "    ref_level_db=20,\n",
        "    preemphasis = 0.98    \n",
        ")"
      ],
      "metadata": {
        "id": "W6so24bhcGr0"
      },
      "execution_count": 10,
      "outputs": []
    },
    {
      "cell_type": "code",
      "source": [
        "from TTS.tts.configs.vits_config import VitsConfig\n",
        "config = VitsConfig(\n",
        "    output_path=output_path,\n",
        "    logger_uri=None,\n",
        "    run_name=\"vits_ljspeech\",\n",
        "    audio=audio_config,\n",
        "    batch_size=16,\n",
        "    batch_group_size=5,\n",
        "    eval_batch_size=8,\n",
        "    num_loader_workers=2,\n",
        "    num_eval_loader_workers=2,\n",
        "    run_eval=False,\n",
        "    test_delay_epochs=-1,\n",
        "    epochs=2,\n",
        "    text_cleaner=\"multilingual_cleaners\",\n",
        "    use_phonemes=False,\n",
        "    print_step=5,\n",
        "    plot_step=6,\n",
        "    print_eval=False,\n",
        "    mixed_precision=False,\n",
        "    datasets=[dataset_config],\n",
        "    cudnn_benchmark=False,\n",
        "    save_step = 2,\n",
        "    save_n_checkpoints=2, \n",
        "    save_checkpoints= True\n",
        ")"
      ],
      "metadata": {
        "id": "04imAPqqcGvd"
      },
      "execution_count": 12,
      "outputs": []
    },
    {
      "cell_type": "code",
      "source": [
        "from TTS.utils.audio import AudioProcessor\n",
        "ap = AudioProcessor.init_from_config(config)"
      ],
      "metadata": {
        "colab": {
          "base_uri": "https://localhost:8080/"
        },
        "id": "0ThZ7S19cGz0",
        "outputId": "0b9fee8a-9a7e-4f13-ed3c-95c23f31d479"
      },
      "execution_count": 13,
      "outputs": [
        {
          "output_type": "stream",
          "name": "stdout",
          "text": [
            " > Setting up Audio Processor...\n",
            " | > sample_rate:22050\n",
            " | > resample:False\n",
            " | > num_mels:80\n",
            " | > log_func:np.log10\n",
            " | > min_level_db:-100\n",
            " | > frame_shift_ms:None\n",
            " | > frame_length_ms:None\n",
            " | > ref_level_db:20\n",
            " | > fft_size:1024\n",
            " | > power:1.3\n",
            " | > preemphasis:0.98\n",
            " | > griffin_lim_iters:60\n",
            " | > signal_norm:True\n",
            " | > symmetric_norm:True\n",
            " | > mel_fmin:0\n",
            " | > mel_fmax:None\n",
            " | > pitch_fmin:1.0\n",
            " | > pitch_fmax:640.0\n",
            " | > spec_gain:20.0\n",
            " | > stft_pad_mode:reflect\n",
            " | > max_norm:4.0\n",
            " | > clip_norm:True\n",
            " | > do_trim_silence:True\n",
            " | > trim_db:45\n",
            " | > do_sound_norm:False\n",
            " | > do_amp_to_db_linear:True\n",
            " | > do_amp_to_db_mel:True\n",
            " | > do_rms_norm:False\n",
            " | > db_level:None\n",
            " | > stats_path:None\n",
            " | > base:10\n",
            " | > hop_length:256\n",
            " | > win_length:1024\n"
          ]
        }
      ]
    },
    {
      "cell_type": "code",
      "source": [
        "from TTS.tts.utils.text.tokenizer import TTSTokenizer\n",
        "tokenizer, config = TTSTokenizer.init_from_config(config)"
      ],
      "metadata": {
        "id": "h05LyWwZcG3w"
      },
      "execution_count": 14,
      "outputs": []
    },
    {
      "cell_type": "code",
      "source": [
        "from TTS.tts.models.vits import Vits\n",
        "model = Vits(config, ap, tokenizer, speaker_manager=None)"
      ],
      "metadata": {
        "id": "qxP5WHTKcG76"
      },
      "execution_count": 15,
      "outputs": []
    },
    {
      "cell_type": "code",
      "source": [
        "from TTS.tts.datasets import load_tts_samples\n",
        "train_samples, eval_samples = load_tts_samples(\n",
        "    dataset_config,\n",
        "    eval_split=False\n",
        "    )"
      ],
      "metadata": {
        "colab": {
          "base_uri": "https://localhost:8080/"
        },
        "id": "NKB6ZrvWcFzU",
        "outputId": "9947f03a-ce22-4f3f-d86e-65a471e2f02c"
      },
      "execution_count": 16,
      "outputs": [
        {
          "output_type": "stream",
          "name": "stdout",
          "text": [
            " | > Found 1183 files in /content/drive/MyDrive/tts_train_dir/LJSpeech-1.1\n"
          ]
        }
      ]
    },
    {
      "cell_type": "code",
      "source": [
        "#!rm -r '/content/drive/MyDrive/tts_train_dir/vits_ljspeech-April-21-2023_03+04PM-0000000'"
      ],
      "metadata": {
        "id": "kd2ddnbLXf_B"
      },
      "execution_count": null,
      "outputs": []
    },
    {
      "cell_type": "code",
      "source": [
        "from trainer import Trainer, TrainerArgs\n",
        "trainer = Trainer(\n",
        "    TrainerArgs(), config, output_path, model=model, train_samples=train_samples\n",
        ")"
      ],
      "metadata": {
        "colab": {
          "base_uri": "https://localhost:8080/"
        },
        "id": "r-NzkSUGcFuf",
        "outputId": "8bd3980b-bf69-45d2-a230-2ad6ac4e7a71"
      },
      "execution_count": 17,
      "outputs": [
        {
          "output_type": "stream",
          "name": "stderr",
          "text": [
            " > Training Environment:\n",
            " | > Num. of CPUs: 2\n",
            " | > Num. of Torch Threads: 1\n",
            " | > Torch seed: 54321\n",
            " | > Torch CUDNN: True\n",
            " | > Torch CUDNN deterministic: False\n",
            " | > Torch CUDNN benchmark: False\n",
            " > Start Tensorboard: tensorboard --logdir=/content/drive/MyDrive/tts_train_dir/vits_ljspeech-April-21-2023_03+32PM-0000000\n",
            "\n",
            " > Model has 83046892 parameters\n"
          ]
        }
      ]
    },
    {
      "cell_type": "code",
      "source": [
        "'''\n",
        "\n",
        "with open('/content/drive/MyDrive/tts_train_dir/LJSpeech-1.1/metadata.txt','r' ) as fp, open('/content/drive/MyDrive/tts_train_dir/LJSpeech-1.1/metadata2.txt','w' ) as tp:\n",
        "  for i in fp:\n",
        "    wv = i.split('|')[0]\n",
        "    wvF = \"/content/drive/MyDrive/tts_train_dir/LJSpeech-1.1/wavs/\" + wv + '.wav'\n",
        "    if os.path.exists(wvF):\n",
        "      tp.write(i)\n",
        "\n",
        "\n",
        "----------\n",
        "\n",
        "item2 = []\n",
        "\n",
        "with open('/content/drive/MyDrive/tts_train_dir/LJSpeech-1.1/metadata.txt','r' ) as fp:\n",
        "  for i in fp:\n",
        "    wv = i.split('|')[0]\n",
        "    wvF =  wv + '.wav'\n",
        "    item2.append(wvF)\n",
        "\n",
        "print(item2)\n",
        "\n",
        "\n",
        "nAv = []\n",
        "for i in my_files:\n",
        "  if i not in item2:\n",
        "    nAv.append(i)\n",
        "    \n",
        "\n",
        "print(nAv)\n",
        "\n",
        "'''\n"
      ],
      "metadata": {
        "colab": {
          "base_uri": "https://localhost:8080/"
        },
        "id": "nz9woH8_MP6s",
        "outputId": "736c1773-a395-48c8-ef2f-4d4706439de5"
      },
      "execution_count": null,
      "outputs": [
        {
          "output_type": "stream",
          "name": "stdout",
          "text": [
            "['GENGEN_038_Verse_015 (1).wav', 'GENGEN_038_Verse_027 (1).wav', 'GENGEN_039_Verse_013 (1).wav', 'GENGEN_039_Verse_015 (1).wav', 'GENGEN_047_Verse_032.wav']\n"
          ]
        }
      ]
    },
    {
      "cell_type": "code",
      "source": [
        "\n"
      ],
      "metadata": {
        "id": "YxeHwQxzPhBR"
      },
      "execution_count": null,
      "outputs": []
    },
    {
      "cell_type": "code",
      "source": [
        "trainer.fit()"
      ],
      "metadata": {
        "colab": {
          "base_uri": "https://localhost:8080/"
        },
        "id": "rgH4rPvtcFp6",
        "outputId": "a2666920-ea4c-4ce2-9c5b-fe02a9028eb9"
      },
      "execution_count": null,
      "outputs": [
        {
          "output_type": "stream",
          "name": "stderr",
          "text": [
            "\n",
            "\u001b[4m\u001b[1m > EPOCH: 0/2\u001b[0m\n",
            " --> /content/drive/MyDrive/tts_train_dir/vits_ljspeech-April-21-2023_03+32PM-0000000\n"
          ]
        },
        {
          "output_type": "stream",
          "name": "stdout",
          "text": [
            "\n",
            "\n",
            "> DataLoader initialization\n",
            "| > Tokenizer:\n",
            "\t| > add_blank: True\n",
            "\t| > use_eos_bos: False\n",
            "\t| > use_phonemes: False\n",
            "| > Number of instances : 1183\n"
          ]
        },
        {
          "output_type": "stream",
          "name": "stderr",
          "text": [
            "\n",
            "\u001b[1m > TRAINING (2023-04-21 15:33:11) \u001b[0m\n"
          ]
        },
        {
          "output_type": "stream",
          "name": "stdout",
          "text": [
            " | > Preprocessing samples\n",
            " | > Max text length: 296\n",
            " | > Min text length: 17\n",
            " | > Avg text length: 111.72696534234996\n",
            " | \n",
            " | > Max audio length: 1951558.0\n",
            " | > Min audio length: 159867.0\n",
            " | > Avg audio length: 776624.9611158073\n",
            " | > Num. instances discarded samples: 0\n",
            " | > Batch group size: 80.\n"
          ]
        },
        {
          "output_type": "stream",
          "name": "stderr",
          "text": [
            "/usr/local/lib/python3.9/dist-packages/torch/functional.py:641: UserWarning: stft with return_complex=False is deprecated. In a future pytorch release, stft will return complex tensors for all inputs, and return_complex=False will raise an error.\n",
            "Note: you can still call torch.view_as_real on the complex output to recover the old return format. (Triggered internally at ../aten/src/ATen/native/SpectralOps.cpp:862.)\n",
            "  return _VF.stft(input, n_fft, hop_length, win_length, window,  # type: ignore[attr-defined]\n",
            "\n",
            "\u001b[1m   --> STEP: 0/74 -- GLOBAL_STEP: 0\u001b[0m\n",
            "     | > loss_disc: 6.02103  (6.02103)\n",
            "     | > loss_disc_real_0: 0.99106  (0.99106)\n",
            "     | > loss_disc_real_1: 1.03855  (1.03855)\n",
            "     | > loss_disc_real_2: 0.98170  (0.98170)\n",
            "     | > loss_disc_real_3: 0.99586  (0.99586)\n",
            "     | > loss_disc_real_4: 1.01673  (1.01673)\n",
            "     | > loss_disc_real_5: 0.99657  (0.99657)\n",
            "     | > loss_0: 6.02103  (6.02103)\n",
            "     | > grad_norm_0: 6.69198  (6.69198)\n",
            "     | > loss_gen: 4.53939  (4.53939)\n",
            "     | > loss_kl: 179.03343  (179.03343)\n",
            "     | > loss_feat: 0.40531  (0.40531)\n",
            "     | > loss_mel: 117.94348  (117.94348)\n",
            "     | > loss_duration: 2.46280  (2.46280)\n",
            "     | > loss_1: 304.38440  (304.38440)\n",
            "     | > grad_norm_1: 1747.28723  (1747.28723)\n",
            "     | > current_lr_0: 0.00020 \n",
            "     | > current_lr_1: 0.00020 \n",
            "     | > step_time: 110.78230  (110.78228)\n",
            "     | > loader_time: 9.57370  (9.57368)\n",
            "\n"
          ]
        },
        {
          "output_type": "stream",
          "name": "stdout",
          "text": [
            "['<BLNK>', 's', '<BLNK>', ' ', '<BLNK>', 'f', '<BLNK>', 'a', '<BLNK>', 'r', '<BLNK>', 'a', '<BLNK>', 'o', '<BLNK>', ' ', '<BLNK>', 'f', '<BLNK>', 'r', '<BLNK>', ' ', '<BLNK>', 'm', '<BLNK>', 'o', '<BLNK>', ' ', '<BLNK>', 'n', '<BLNK>', 'a', '<BLNK>', ' ', '<BLNK>', 'b', '<BLNK>', 'i', '<BLNK>', 's', '<BLNK>', 'a', '<BLNK>', ' ', '<BLNK>', 'm', '<BLNK>', 'o', '<BLNK>', ' ', '<BLNK>', 's', '<BLNK>', ' ', '<BLNK>', '‘', '<BLNK>', 'a', '<BLNK>', 'd', '<BLNK>', 'w', '<BLNK>', 'u', '<BLNK>', 'm', '<BLNK>', 'a', '<BLNK>', ' ', '<BLNK>', 'b', '<BLNK>', ' ', '<BLNK>', 'n', '<BLNK>', ' ', '<BLNK>', 'n', '<BLNK>', 'a', '<BLNK>', ' ', '<BLNK>', 'm', '<BLNK>', 'o', '<BLNK>', 'y', '<BLNK>', ' ', '<BLNK>', 'a', '<BLNK>', ' ', '<BLNK>', '’', '<BLNK>', '.', '<BLNK>']\n",
            " [!] Character '‘' not found in the vocabulary. Discarding it.\n",
            "['<BLNK>', 's', '<BLNK>', ' ', '<BLNK>', 'f', '<BLNK>', 'a', '<BLNK>', 'r', '<BLNK>', 'a', '<BLNK>', 'o', '<BLNK>', ' ', '<BLNK>', 'f', '<BLNK>', 'r', '<BLNK>', ' ', '<BLNK>', 'm', '<BLNK>', 'o', '<BLNK>', ' ', '<BLNK>', 'n', '<BLNK>', 'a', '<BLNK>', ' ', '<BLNK>', 'b', '<BLNK>', 'i', '<BLNK>', 's', '<BLNK>', 'a', '<BLNK>', ' ', '<BLNK>', 'm', '<BLNK>', 'o', '<BLNK>', ' ', '<BLNK>', 's', '<BLNK>', ' ', '<BLNK>', '‘', '<BLNK>', 'a', '<BLNK>', 'd', '<BLNK>', 'w', '<BLNK>', 'u', '<BLNK>', 'm', '<BLNK>', 'a', '<BLNK>', ' ', '<BLNK>', 'b', '<BLNK>', ' ', '<BLNK>', 'n', '<BLNK>', ' ', '<BLNK>', 'n', '<BLNK>', 'a', '<BLNK>', ' ', '<BLNK>', 'm', '<BLNK>', 'o', '<BLNK>', 'y', '<BLNK>', ' ', '<BLNK>', 'a', '<BLNK>', ' ', '<BLNK>', '’', '<BLNK>', '.', '<BLNK>']\n",
            " [!] Character '’' not found in the vocabulary. Discarding it.\n",
            "['<BLNK>', 'n', '<BLNK>', 'n', '<BLNK>', 'a', '<BLNK>', ' ', '<BLNK>', 'y', '<BLNK>', ' ', '<BLNK>', 'n', '<BLNK>', ' ', '<BLNK>', 'a', '<BLNK>', 'g', '<BLNK>', 'y', '<BLNK>', 'a', '<BLNK>', ' ', '<BLNK>', 'k', '<BLNK>', 'a', '<BLNK>', 'a', '<BLNK>', ' ', '<BLNK>', 's', '<BLNK>', ' ', '<BLNK>', '‘', '<BLNK>', 'm', '<BLNK>', 'o', '<BLNK>', 'n', '<BLNK>', 's', '<BLNK>', 'a', '<BLNK>', 'n', '<BLNK>', 'e', '<BLNK>', ' ', '<BLNK>', 'n', '<BLNK>', 'k', '<BLNK>', ' ', '<BLNK>', 'b', '<BLNK>', 'i', '<BLNK>', 'o', '<BLNK>', ' ', '<BLNK>', 'n', '<BLNK>', 'k', '<BLNK>', ' ', '<BLNK>', 't', '<BLNK>', ' ', '<BLNK>', 'a', '<BLNK>', 'd', '<BLNK>', 'u', '<BLNK>', 'a', '<BLNK>', 'n', '<BLNK>', 'e', '<BLNK>', ' ', '<BLNK>', 'k', '<BLNK>', 'a', '<BLNK>', 'k', '<BLNK>', 'r', '<BLNK>', 'a', '<BLNK>', ' ', '<BLNK>', 'm', '<BLNK>', 'm', '<BLNK>', 'r', '<BLNK>', 'a', '<BLNK>', ' ', '<BLNK>', '’', '<BLNK>', '.', '<BLNK>']\n",
            " [!] Character '‘' not found in the vocabulary. Discarding it.\n",
            "['<BLNK>', 'n', '<BLNK>', 'n', '<BLNK>', 'a', '<BLNK>', ' ', '<BLNK>', 'y', '<BLNK>', ' ', '<BLNK>', 'n', '<BLNK>', ' ', '<BLNK>', 'a', '<BLNK>', 'g', '<BLNK>', 'y', '<BLNK>', 'a', '<BLNK>', ' ', '<BLNK>', 'k', '<BLNK>', 'a', '<BLNK>', 'a', '<BLNK>', ' ', '<BLNK>', 's', '<BLNK>', ' ', '<BLNK>', '‘', '<BLNK>', 'm', '<BLNK>', 'o', '<BLNK>', 'n', '<BLNK>', 's', '<BLNK>', 'a', '<BLNK>', 'n', '<BLNK>', 'e', '<BLNK>', ' ', '<BLNK>', 'n', '<BLNK>', 'k', '<BLNK>', ' ', '<BLNK>', 'b', '<BLNK>', 'i', '<BLNK>', 'o', '<BLNK>', ' ', '<BLNK>', 'n', '<BLNK>', 'k', '<BLNK>', ' ', '<BLNK>', 't', '<BLNK>', ' ', '<BLNK>', 'a', '<BLNK>', 'd', '<BLNK>', 'u', '<BLNK>', 'a', '<BLNK>', 'n', '<BLNK>', 'e', '<BLNK>', ' ', '<BLNK>', 'k', '<BLNK>', 'a', '<BLNK>', 'k', '<BLNK>', 'r', '<BLNK>', 'a', '<BLNK>', ' ', '<BLNK>', 'm', '<BLNK>', 'm', '<BLNK>', 'r', '<BLNK>', 'a', '<BLNK>', ' ', '<BLNK>', '’', '<BLNK>', '.', '<BLNK>']\n",
            " [!] Character '’' not found in the vocabulary. Discarding it.\n"
          ]
        },
        {
          "output_type": "stream",
          "name": "stderr",
          "text": [
            "\n",
            " > CHECKPOINT : /content/drive/MyDrive/tts_train_dir/vits_ljspeech-April-21-2023_03+32PM-0000000/checkpoint_2.pth\n",
            "\n",
            " > CHECKPOINT : /content/drive/MyDrive/tts_train_dir/vits_ljspeech-April-21-2023_03+32PM-0000000/checkpoint_4.pth\n"
          ]
        }
      ]
    },
    {
      "cell_type": "code",
      "source": [
        "!pip install tensorboard"
      ],
      "metadata": {
        "id": "G2kZnha5cFfi"
      },
      "execution_count": null,
      "outputs": []
    },
    {
      "cell_type": "code",
      "source": [
        "import glob, os\n",
        "output_path = \"/content/drive/MyDrive/tts_train_dir\"\n",
        "ckpts = sorted([f for f in glob.glob(output_path+\"/*/*.pth\")])\n",
        "configs = sorted([f for f in glob.glob(output_path+\"/*/*.json\")])"
      ],
      "metadata": {
        "id": "PWfiS-EicFcd"
      },
      "execution_count": 7,
      "outputs": []
    },
    {
      "cell_type": "code",
      "source": [
        "print(configs)\n",
        "print(ckpts)"
      ],
      "metadata": {
        "id": "SN4qopNRcFTe",
        "colab": {
          "base_uri": "https://localhost:8080/"
        },
        "outputId": "5ea04e77-be29-4dd4-8763-98ec1ae3f693"
      },
      "execution_count": 9,
      "outputs": [
        {
          "output_type": "stream",
          "name": "stdout",
          "text": [
            "['/content/drive/MyDrive/tts_train_dir/vits_ljspeech-April-21-2023_03+32PM-0000000/config.json']\n",
            "['/content/drive/MyDrive/tts_train_dir/vits_ljspeech-April-21-2023_03+32PM-0000000/checkpoint_2.pth', '/content/drive/MyDrive/tts_train_dir/vits_ljspeech-April-21-2023_03+32PM-0000000/checkpoint_4.pth']\n"
          ]
        }
      ]
    },
    {
      "cell_type": "code",
      "source": [
        "!tts --text \"bra ha\" \\\n",
        "      --model_path \"/content/drive/MyDrive/tts_train_dir/vits_ljspeech-April-21-2023_03+32PM-0000000/checkpoint_2.pth\" \\\n",
        "      --config_path \"/content/drive/MyDrive/tts_train_dir/vits_ljspeech-April-21-2023_03+32PM-0000000/config.json\" \\\n",
        "      --out_path out.wav"
      ],
      "metadata": {
        "colab": {
          "base_uri": "https://localhost:8080/"
        },
        "id": "EaAzxQ4sg0o7",
        "outputId": "3d6ddeab-419f-4ea8-eef7-faeef1bae1c5"
      },
      "execution_count": 17,
      "outputs": [
        {
          "output_type": "stream",
          "name": "stdout",
          "text": [
            " > Using model: vits\n",
            " > Setting up Audio Processor...\n",
            " | > sample_rate:22050\n",
            " | > resample:False\n",
            " | > num_mels:80\n",
            " | > log_func:np.log10\n",
            " | > min_level_db:0\n",
            " | > frame_shift_ms:None\n",
            " | > frame_length_ms:None\n",
            " | > ref_level_db:None\n",
            " | > fft_size:1024\n",
            " | > power:None\n",
            " | > preemphasis:0.0\n",
            " | > griffin_lim_iters:None\n",
            " | > signal_norm:None\n",
            " | > symmetric_norm:None\n",
            " | > mel_fmin:0\n",
            " | > mel_fmax:None\n",
            " | > pitch_fmin:None\n",
            " | > pitch_fmax:None\n",
            " | > spec_gain:20.0\n",
            " | > stft_pad_mode:reflect\n",
            " | > max_norm:1.0\n",
            " | > clip_norm:True\n",
            " | > do_trim_silence:False\n",
            " | > trim_db:60\n",
            " | > do_sound_norm:False\n",
            " | > do_amp_to_db_linear:True\n",
            " | > do_amp_to_db_mel:True\n",
            " | > do_rms_norm:False\n",
            " | > db_level:None\n",
            " | > stats_path:None\n",
            " | > base:10\n",
            " | > hop_length:256\n",
            " | > win_length:1024\n",
            " > Text: bra ha\n",
            " > Text splitted to sentences.\n",
            "['bra ha']\n",
            " > Processing time: 0.5856072902679443\n",
            " > Real-time factor: 0.7752546079735935\n",
            " > Saving output to out.wav\n"
          ]
        }
      ]
    },
    {
      "cell_type": "code",
      "source": [
        "%cd /content/"
      ],
      "metadata": {
        "colab": {
          "base_uri": "https://localhost:8080/"
        },
        "id": "0HUFem2_iA8p",
        "outputId": "9996b5c8-98e9-45f5-ea24-d60080f1321f"
      },
      "execution_count": 18,
      "outputs": [
        {
          "output_type": "stream",
          "name": "stdout",
          "text": [
            "/content\n"
          ]
        }
      ]
    },
    {
      "cell_type": "code",
      "source": [
        "import IPython\n",
        "IPython.display.Audio(\"/content/out.wav\")"
      ],
      "metadata": {
        "colab": {
          "base_uri": "https://localhost:8080/",
          "height": 75
        },
        "id": "w4QfLypEg0Y0",
        "outputId": "b1646aa7-cf29-45db-8cad-0a630cf53121"
      },
      "execution_count": 19,
      "outputs": [
        {
          "output_type": "execute_result",
          "data": {
            "text/plain": [
              "<IPython.lib.display.Audio object>"
            ],
            "text/html": [
              "\n",
              "                <audio  controls=\"controls\" >\n",
              "                    <source src=\"data:audio/x-wav;base64,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\" type=\"audio/x-wav\" />\n",
              "                    Your browser does not support the audio element.\n",
              "                </audio>\n",
              "              "
            ]
          },
          "metadata": {},
          "execution_count": 19
        }
      ]
    },
    {
      "cell_type": "code",
      "source": [],
      "metadata": {
        "id": "fcF7yIWmg0Vk"
      },
      "execution_count": null,
      "outputs": []
    }
  ]
}